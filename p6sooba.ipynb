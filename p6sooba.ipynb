{
 "cells": [
  {
   "cell_type": "code",
   "execution_count": 1,
   "id": "342e07ab",
   "metadata": {},
   "outputs": [
    {
     "ename": "ModuleNotFoundError",
     "evalue": "No module named 'pulp'",
     "output_type": "error",
     "traceback": [
      "\u001b[1;31m---------------------------------------------------------------------------\u001b[0m",
      "\u001b[1;31mModuleNotFoundError\u001b[0m                       Traceback (most recent call last)",
      "Cell \u001b[1;32mIn [1], line 1\u001b[0m\n\u001b[1;32m----> 1\u001b[0m \u001b[38;5;28;01mfrom\u001b[39;00m \u001b[38;5;21;01mpulp\u001b[39;00m \u001b[38;5;28;01mimport\u001b[39;00m \u001b[38;5;241m*\u001b[39m\n\u001b[0;32m      2\u001b[0m \u001b[38;5;28;01mimport\u001b[39;00m \u001b[38;5;21;01mpandas\u001b[39;00m \u001b[38;5;28;01mas\u001b[39;00m \u001b[38;5;21;01mpd\u001b[39;00m\n\u001b[0;32m      3\u001b[0m \u001b[38;5;28;01mimport\u001b[39;00m \u001b[38;5;21;01mnumpy\u001b[39;00m \u001b[38;5;28;01mas\u001b[39;00m \u001b[38;5;21;01mnp\u001b[39;00m\n",
      "\u001b[1;31mModuleNotFoundError\u001b[0m: No module named 'pulp'"
     ]
    }
   ],
   "source": [
    "\n",
    "from pulp import *\n",
    "import pandas as pd\n",
    "import numpy as np\n",
    "\n",
    "n_warehouses = 2\n",
    "n_customers = 5\n",
    "\n",
    "\n",
    "cost_matrix = np.array([[500,700,-450,600,640], [300,-200,350,-400,100]])\n",
    "\n",
    "\n",
    "cust_demands = np.array([200,100])\n",
    "\n",
    "\n",
    "model = LpProblem(\"Supply-Demand-Problem\", LpMinimize)\n",
    "variable_namesX = [str(1)+str(j) for j in range(1, n_customers+1)]\n",
    "variable_namesY = [str(2)+str(j) for j in range(1, n_customers+1)]\n",
    "\n",
    "variable_namesX.sort()\n",
    "variable_namesY.sort()\n",
    "\n",
    "print(\"Variable Indices:\", variable_namesX, variable_namesY)\n",
    "\n",
    "DV_variablesX = LpVariable.matrix(\"X\", variable_namesX, cat = \"Integer\", lowBound= 150, upBound=400)\n",
    "DV_variablesY = LpVariable.matrix(\"Y\", variable_namesY, cat = \"Integer\", lowBound= 120, upBound=320)\n",
    "DV_variables = DV_variablesX + DV_variablesY\n",
    "allocation = np.array(DV_variables).reshape(2,5)\n",
    "print(\"Decision Variable/Allocation Matrix: \")\n",
    "print(allocation)\n",
    "obj_func = lpSum(allocation*cost_matrix+4000)\n",
    "print(obj_func)\n",
    "model +=  obj_func\n",
    "print(model)\n",
    "\n",
    "for j in range(n_customers-1) :\n",
    "     print(lpSum(allocation[0][j+1]-allocation[0][j] ) <= cust_demands[0] )\n",
    "     model += lpSum(allocation[0][j+1]-allocation[0][j]) <= cust_demands[0] , \"Supply Constraints \" + str(j)\n",
    "for j in range(n_customers-1) :\n",
    "     print(lpSum(allocation[1][j+1]-allocation[1][j] ) <= cust_demands[1])\n",
    "     model += lpSum(allocation[1][j+1]-allocation[1][j] ) <= cust_demands[1] , \"Supply Constraints \" + str(j+4)\n",
    "\n",
    "model.writeLP(\"Supply_demand_prob.lp\")\n",
    "\n",
    "model.solve(PULP_CBC_CMD())\n",
    "\n",
    "status =  LpStatus[model.status]\n",
    "\n",
    "print(status)\n",
    "print(\"Total Cost:\", model.objective.value())\n",
    "\n",
    "\n",
    "\n",
    "for v in model.variables():\n",
    "    try:\n",
    "        print(v.name,\"=\", v.value())\n",
    "    except:\n",
    "        print(\"error couldnt find value\")\n",
    "\n",
    "\n",
    "\n"
   ]
  }
 ],
 "metadata": {
  "kernelspec": {
   "display_name": "Python 3 (ipykernel)",
   "language": "python",
   "name": "python3"
  },
  "language_info": {
   "codemirror_mode": {
    "name": "ipython",
    "version": 3
   },
   "file_extension": ".py",
   "mimetype": "text/x-python",
   "name": "python",
   "nbconvert_exporter": "python",
   "pygments_lexer": "ipython3",
   "version": "3.9.13"
  }
 },
 "nbformat": 4,
 "nbformat_minor": 5
}
