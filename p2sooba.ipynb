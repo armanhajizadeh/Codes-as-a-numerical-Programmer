{
 "cells": [
  {
   "cell_type": "code",
   "execution_count": 2,
   "id": "ccf6b155",
   "metadata": {},
   "outputs": [
    {
     "name": "stdout",
     "output_type": "stream",
     "text": [
      "Final Estimation of Pi= 3.140864\n"
     ]
    }
   ],
   "source": [
    "import random\n",
    " \n",
    "INTERVAL = 1000\n",
    " \n",
    "circle_points = 0\n",
    "square_points = 0\n",
    " \n",
    "\n",
    "for i in range(INTERVAL**2):\n",
    " \n",
    "  \n",
    "    rand_x = random.uniform(-1, 1)\n",
    "    rand_y = random.uniform(-1, 1)\n",
    " \n",
    "    \n",
    "    origin_dist = rand_x**2 + rand_y**2\n",
    " \n",
    "    \n",
    "    if origin_dist <= 1:\n",
    "        circle_points += 1\n",
    " \n",
    "    square_points += 1\n",
    " \n",
    "    \n",
    "    pi = 4 * circle_points / square_points\n",
    " \n",
    "\n",
    " \n",
    "print(\"Final Estimation of Pi=\", pi)"
   ]
  }
 ],
 "metadata": {
  "kernelspec": {
   "display_name": "Python 3 (ipykernel)",
   "language": "python",
   "name": "python3"
  },
  "language_info": {
   "codemirror_mode": {
    "name": "ipython",
    "version": 3
   },
   "file_extension": ".py",
   "mimetype": "text/x-python",
   "name": "python",
   "nbconvert_exporter": "python",
   "pygments_lexer": "ipython3",
   "version": "3.9.13"
  }
 },
 "nbformat": 4,
 "nbformat_minor": 5
}
