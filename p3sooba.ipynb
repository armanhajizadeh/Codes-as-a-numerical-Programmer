{
 "cells": [
  {
   "cell_type": "code",
   "execution_count": 1,
   "id": "6f8d03ed",
   "metadata": {},
   "outputs": [
    {
     "name": "stdout",
     "output_type": "stream",
     "text": [
      "      precipitation        Date  more_than_3_cm  Count\n",
      "0          3.709720  2023-01-22            True      2\n",
      "1          3.545636  2023-01-23            True      2\n",
      "2          2.622741  2023-01-24           False     -3\n",
      "3          2.362192  2023-01-25           False     -3\n",
      "4          2.179521  2023-01-26           False     -3\n",
      "...             ...         ...             ...    ...\n",
      "1090       1.327661  2026-01-16           False     -2\n",
      "1091       1.851489  2026-01-17           False     -2\n",
      "1092       3.500399  2026-01-18            True      2\n",
      "1093       3.229064  2026-01-19            True      2\n",
      "1094       1.165490  2026-01-20           False     -1\n",
      "\n",
      "[1095 rows x 4 columns]\n",
      "29      2023-02-20\n",
      "30      2023-02-21\n",
      "31      2023-02-22\n",
      "32      2023-02-23\n",
      "33      2023-02-24\n",
      "           ...    \n",
      "1085    2026-01-11\n",
      "1086    2026-01-12\n",
      "1087    2026-01-13\n",
      "1088    2026-01-14\n",
      "1089    2026-01-15\n",
      "Name: Date, Length: 184, dtype: object\n"
     ]
    }
   ],
   "source": [
    "import pandas as pd\n",
    "import numpy as np\n",
    "import datetime\n",
    "import random\n",
    "\n",
    "random.seed(5)\n",
    "signup_datetime = datetime.datetime.today()\n",
    "signup_datetimes = []\n",
    "total_signups = 3*365\n",
    "\n",
    "for signup in range(total_signups):\n",
    "    signup_datetime = signup_datetime + datetime.timedelta(days=1)\n",
    "    signup_datetimes.append(signup_datetime)\n",
    "    \n",
    "df = pd.DataFrame({'user_created_at': signup_datetimes})\n",
    "df['precipitation'] = np.random.uniform(1, 5, df.shape[0])\n",
    "df['Date'] = df['user_created_at'].dt.strftime('%Y-%m-%d')\n",
    "df.drop('user_created_at', inplace=True, axis=1)\n",
    "df['more_than_3_cm'] = df['precipitation'].map(lambda x: x>3)\n",
    "g = df['more_than_3_cm'].ne(df['more_than_3_cm'].shift()).cumsum()\n",
    "df['Count'] = df.groupby(g)['more_than_3_cm'].transform('size') * np.where(df['more_than_3_cm'], 1, -1)\n",
    "print (df)\n",
    "print(df.loc[df['Count'] > 3, 'Date'])\n",
    "\n",
    "\n",
    "\n",
    "\n"
   ]
  }
 ],
 "metadata": {
  "kernelspec": {
   "display_name": "Python 3 (ipykernel)",
   "language": "python",
   "name": "python3"
  },
  "language_info": {
   "codemirror_mode": {
    "name": "ipython",
    "version": 3
   },
   "file_extension": ".py",
   "mimetype": "text/x-python",
   "name": "python",
   "nbconvert_exporter": "python",
   "pygments_lexer": "ipython3",
   "version": "3.9.13"
  }
 },
 "nbformat": 4,
 "nbformat_minor": 5
}
