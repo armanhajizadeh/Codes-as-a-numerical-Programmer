{
 "cells": [
  {
   "cell_type": "code",
   "execution_count": null,
   "id": "46637f76",
   "metadata": {},
   "outputs": [],
   "source": [
    "import numpy as np \n",
    "\n",
    "Arr = np.array([ 150, 100, 30, 30, 30, 20, 20, 10, 10, 5])\n",
    "x= (np.sum(Arr[2:])+40)/(np.sum(Arr[2:]))\n",
    "print(x)\n",
    "A = np.array([1, 0.6, x, x, x, x, x, x, x, x])\n",
    "C = A* Arr\n",
    "print (C)\n",
    "f = C[9]/C[8]\n",
    "t= np.sum(Arr)\n",
    "s= np.sum(C)\n",
    "\n",
    "print (f)\n",
    "print(s)\n",
    "print (t)"
   ]
  }
 ],
 "metadata": {
  "kernelspec": {
   "display_name": "Python 3 (ipykernel)",
   "language": "python",
   "name": "python3"
  },
  "language_info": {
   "codemirror_mode": {
    "name": "ipython",
    "version": 3
   },
   "file_extension": ".py",
   "mimetype": "text/x-python",
   "name": "python",
   "nbconvert_exporter": "python",
   "pygments_lexer": "ipython3",
   "version": "3.9.13"
  }
 },
 "nbformat": 4,
 "nbformat_minor": 5
}
